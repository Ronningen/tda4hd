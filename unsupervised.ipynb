{
 "cells": [
  {
   "cell_type": "code",
   "execution_count": 164,
   "id": "9db110c4-257b-4e41-bfa4-562917c13fa7",
   "metadata": {
    "execution": {
     "iopub.execute_input": "2024-08-12T00:52:32.576565Z",
     "iopub.status.busy": "2024-08-12T00:52:32.576250Z",
     "iopub.status.idle": "2024-08-12T00:52:32.580714Z",
     "shell.execute_reply": "2024-08-12T00:52:32.580230Z",
     "shell.execute_reply.started": "2024-08-12T00:52:32.576545Z"
    }
   },
   "outputs": [],
   "source": [
    "import numpy as np\n",
    "from scipy import interpolate\n",
    "from tqdm import tqdm, trange\n",
    "import seaborn as sns\n",
    "from matplotlib import pyplot as plt\n",
    "from torchvision.transforms import Resize\n",
    "from sklearn.metrics import pairwise_distances\n",
    "import umap\n",
    "import torch\n",
    "import os\n",
    "import json\n",
    "from barcodes import rtd_from_ats\n",
    "from sklearn.neighbors import KNeighborsClassifier\n",
    "from sklearn.neural_network import MLPClassifier\n",
    "from sklearn.linear_model import LogisticRegression\n",
    "from sklearn.preprocessing import StandardScaler, MinMaxScaler\n",
    "from sklearn.pipeline import Pipeline\n",
    "from sklearn.metrics import roc_auc_score, matthews_corrcoef, accuracy_score\n",
    "from sklearn.model_selection import cross_val_score, KFold\n",
    "from scipy.stats import wasserstein_distance_nd\n",
    "from catboost import CatBoostClassifier"
   ]
  },
  {
   "cell_type": "code",
   "execution_count": 165,
   "id": "55fb2483-ab78-419c-b6e8-23d5505c369e",
   "metadata": {
    "execution": {
     "iopub.execute_input": "2024-08-12T00:52:32.728162Z",
     "iopub.status.busy": "2024-08-12T00:52:32.727842Z",
     "iopub.status.idle": "2024-08-12T00:52:38.262545Z",
     "shell.execute_reply": "2024-08-12T00:52:38.262022Z",
     "shell.execute_reply.started": "2024-08-12T00:52:32.728146Z"
    }
   },
   "outputs": [],
   "source": [
    "heads = [\n",
    "         16,   45,   56,   90,   93,  101,  117,  127,  136,  164,  165,\n",
    "        205,  214,  223,  227,  231,  244,  250,  251,  260,  262,  267,\n",
    "        274,  282,  283,  310,  336,  339,  351,  371,  373,  376,  379,\n",
    "        380,  381,  401,  415,  416,  432,  450,  457,  461,  468,  469,\n",
    "        477,  495,  501,  506,  511,  514,  549,  589,  607,  622,  626,\n",
    "        629,  631,  632,  639,  648,  655,  657,  658,  664,  667,  668,\n",
    "        675,  689,  690,  691,  703,  716,  740,  754,  785,  788,  805,\n",
    "        818,  833,  837,  854,  862,  863,  865,  895,  898,  901,  918,\n",
    "        927,  938,  956,  975,  976,  990,  991, 1003, 1009, 1011, 1015\n",
    "    ]\n",
    "\n",
    "def get_data(dirpath, TS=False):\n",
    "    X, y = [], []\n",
    "    for f in os.listdir(dirpath):\n",
    "        if f[:2]!='ex' or len(f.split('.'))!=3 or f[-5]=='q': continue\n",
    "        label = f.split('_')[1][0]\n",
    "        crat = np.load(dirpath+f)\n",
    "        if TS:\n",
    "            crat = crat.reshape(32*32,15,2)[heads,:]#[:,:,[2,3]]#[:,:,[1,2,3]]\n",
    "        else:\n",
    "            crat = crat.reshape(99,15,2)#[:,[2,3]]\n",
    "        X.append(crat.ravel())\n",
    "        y.append(int(label))\n",
    "    return np.array(X), np.array(y)\n",
    "\n",
    "Xtr, ytr = get_data('auto-labeled/output/llamabase7b/train_ff/')\n",
    "Xvl, yvl = get_data('auto-labeled/output/llamabase7b/valid_ff/')\n",
    "Xts, yts = get_data('auto-labeled/output/llamabase7b/test_ff/')\n",
    "XTS, yTS = get_data('helm/filtration_features/llamabase7b/', True)\n",
    "\n",
    "mask = np.arange(ytr.shape[0])\n",
    "mask = sorted(list( mask[ytr.astype(bool)][:(1-ytr).sum()] )+list(mask[~ytr.astype(bool)][:ytr.sum()]))\n",
    "Xtr, ytr = Xtr[mask], ytr[mask]"
   ]
  },
  {
   "cell_type": "code",
   "execution_count": 169,
   "id": "ab0a91a5-08ae-48ef-a87c-852510149406",
   "metadata": {
    "execution": {
     "iopub.execute_input": "2024-08-12T00:55:59.868363Z",
     "iopub.status.busy": "2024-08-12T00:55:59.868059Z",
     "iopub.status.idle": "2024-08-12T00:58:49.695161Z",
     "shell.execute_reply": "2024-08-12T00:58:49.694718Z",
     "shell.execute_reply.started": "2024-08-12T00:55:59.868346Z"
    }
   },
   "outputs": [
    {
     "name": "stdout",
     "output_type": "stream",
     "text": [
      "0.9586648983200707\n",
      "0.6659343434343434\n",
      "0.6519575395544075\n",
      "0.581358791503719\n"
     ]
    }
   ],
   "source": [
    "# m = Pipeline([('ss',StandardScaler()),('est',LogisticRegression(max_iter=5000))])\n",
    "m = Pipeline([('ss',StandardScaler()),('est',MLPClassifier((256,128,64),\n",
    "        max_iter=100, batch_size=32, learning_rate_init=5e-4))])\n",
    "# m = CatBoostClassifier(verbose=False)\n",
    "m = m.fit(Xtr, ytr)\n",
    "ypr = m.predict(Xtr)\n",
    "print(roc_auc_score(ytr,ypr))\n",
    "ypr = m.predict(Xvl)\n",
    "print(roc_auc_score(yvl,ypr))\n",
    "ypr = m.predict(Xts)\n",
    "print(roc_auc_score(yts,ypr))\n",
    "ypr = m.predict(XTS)\n",
    "print(roc_auc_score(yTS,ypr))"
   ]
  },
  {
   "cell_type": "code",
   "execution_count": 159,
   "id": "40cead35-8c29-4952-b921-c215a99a229b",
   "metadata": {
    "execution": {
     "iopub.execute_input": "2024-08-11T18:03:05.748471Z",
     "iopub.status.busy": "2024-08-11T18:03:05.748066Z",
     "iopub.status.idle": "2024-08-11T18:03:43.374274Z",
     "shell.execute_reply": "2024-08-11T18:03:43.373756Z",
     "shell.execute_reply.started": "2024-08-11T18:03:05.748454Z"
    }
   },
   "outputs": [],
   "source": [
    "def get_data_auto(type_=\"train\", root_path='auto-labeled/output'):\n",
    "    hd = json.load(open(os.path.join(root_path, 'llamabase7b', f\"last_token_mean_{type_}.json\"), encoding='utf-8'))\n",
    "    hd3 = json.load(open(os.path.join(root_path, 'llamabase7b', f\"last_mean_{type_}.json\"), encoding='utf-8'))\n",
    "    halu_hd, right_hd, halu_hd3, right_hd3 = [],[],[],[]\n",
    "    for hs, hs3 in zip(hd, hd3):\n",
    "        halu_hd += hs[\"hallu\"]\n",
    "        halu_hd3 += hs3[\"hallu\"]\n",
    "        right_hd.append(hs[\"right\"])\n",
    "        right_hd3.append(hs3[\"right\"])\n",
    "    right_hd = right_hd[:len(halu_hd)]\n",
    "    right_hd3 = right_hd3[:len(halu_hd)]\n",
    "    X, y = [], []\n",
    "    for i in range(len(halu_hd)):\n",
    "        X.append(np.array(right_hd[i])+np.array(right_hd3[i]))\n",
    "        X.append(np.array(halu_hd[i])+np.array(halu_hd3[i]))\n",
    "        y.append(0)\n",
    "        y.append(1)\n",
    "    return np.array(X), np.array(y)\n",
    "\n",
    "def get_data(dirpath, TS=False):\n",
    "    X, y = [], []\n",
    "    for f in os.listdir(dirpath):\n",
    "        if f[:2]!='hd' or f[-3:]!='npy' or f[-5]=='q': continue\n",
    "        label = f.split('_')[1][0]\n",
    "        crat = np.load(dirpath+f)\n",
    "        X.append(crat.ravel())\n",
    "        y.append(int(label))\n",
    "    return np.array(X), np.array(y)\n",
    "\n",
    "Xtr, ytr = get_data_auto('train')\n",
    "Xvl, yvl = get_data_auto('valid')\n",
    "Xts, yts = get_data_auto('test')\n",
    "XTS, yTS = get_data('helm/hd/llamabase7b/', True)"
   ]
  },
  {
   "cell_type": "code",
   "execution_count": 160,
   "id": "94bbe25a-bcb9-41f6-acb1-19d193df4781",
   "metadata": {
    "execution": {
     "iopub.execute_input": "2024-08-11T18:03:43.375208Z",
     "iopub.status.busy": "2024-08-11T18:03:43.374978Z",
     "iopub.status.idle": "2024-08-11T18:06:51.960744Z",
     "shell.execute_reply": "2024-08-11T18:06:51.960229Z",
     "shell.execute_reply.started": "2024-08-11T18:03:43.375192Z"
    }
   },
   "outputs": [
    {
     "name": "stdout",
     "output_type": "stream",
     "text": [
      "0.9531388152077807\n",
      "0.6944444444444444\n",
      "0.7157894736842106\n",
      "0.6572157043171537\n"
     ]
    }
   ],
   "source": [
    "# m = Pipeline([('ss',StandardScaler()),('est',LogisticRegression(max_iter=5000))])\n",
    "# m = Pipeline([('ss',StandardScaler()),('est',MLPClassifier((256,128,64),\n",
    "#         max_iter=100, batch_size=32, learning_rate_init=5e-4))])\n",
    "m = CatBoostClassifier(verbose=False, )\n",
    "m = m.fit(Xtr, ytr)\n",
    "ypr = m.predict(Xtr)\n",
    "print(accuracy_score(ytr,ypr))\n",
    "ypr = m.predict(Xvl)\n",
    "print(accuracy_score(yvl,ypr))\n",
    "ypr = m.predict(Xts)\n",
    "print(accuracy_score(yts,ypr))\n",
    "ypr = m.predict(XTS)\n",
    "print(roc_auc_score(yTS,ypr))"
   ]
  },
  {
   "cell_type": "code",
   "execution_count": null,
   "id": "5ea20010-50e1-4c94-9a89-f66233247580",
   "metadata": {},
   "outputs": [],
   "source": []
  }
 ],
 "metadata": {
  "kernelspec": {
   "display_name": "Python 3 (ipykernel)",
   "language": "python",
   "name": "python3"
  },
  "language_info": {
   "codemirror_mode": {
    "name": "ipython",
    "version": 3
   },
   "file_extension": ".py",
   "mimetype": "text/x-python",
   "name": "python",
   "nbconvert_exporter": "python",
   "pygments_lexer": "ipython3",
   "version": "3.10.9"
  }
 },
 "nbformat": 4,
 "nbformat_minor": 5
}
